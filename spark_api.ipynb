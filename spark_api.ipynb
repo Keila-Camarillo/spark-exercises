{
 "cells": [
  {
   "cell_type": "code",
   "execution_count": 87,
   "id": "e5850fb9",
   "metadata": {},
   "outputs": [],
   "source": [
    "import pandas as pd\n",
    "import numpy as np\n",
    "import pyspark"
   ]
  },
  {
   "cell_type": "code",
   "execution_count": 6,
   "id": "69ca7ecb",
   "metadata": {},
   "outputs": [
    {
     "name": "stdout",
     "output_type": "stream",
     "text": [
      "+---+\n",
      "| id|\n",
      "+---+\n",
      "|  0|\n",
      "|  1|\n",
      "|  2|\n",
      "|  3|\n",
      "|  4|\n",
      "+---+\n",
      "\n"
     ]
    }
   ],
   "source": [
    "\n",
    "spark = pyspark.sql.SparkSession.builder.getOrCreate()\n",
    "spark.range(5).show()\n"
   ]
  },
  {
   "cell_type": "code",
   "execution_count": 7,
   "id": "0fdae45c",
   "metadata": {},
   "outputs": [
    {
     "data": {
      "text/html": [
       "<div>\n",
       "<style scoped>\n",
       "    .dataframe tbody tr th:only-of-type {\n",
       "        vertical-align: middle;\n",
       "    }\n",
       "\n",
       "    .dataframe tbody tr th {\n",
       "        vertical-align: top;\n",
       "    }\n",
       "\n",
       "    .dataframe thead th {\n",
       "        text-align: right;\n",
       "    }\n",
       "</style>\n",
       "<table border=\"1\" class=\"dataframe\">\n",
       "  <thead>\n",
       "    <tr style=\"text-align: right;\">\n",
       "      <th></th>\n",
       "      <th>n</th>\n",
       "      <th>group</th>\n",
       "    </tr>\n",
       "  </thead>\n",
       "  <tbody>\n",
       "    <tr>\n",
       "      <th>0</th>\n",
       "      <td>0</td>\n",
       "      <td>c</td>\n",
       "    </tr>\n",
       "    <tr>\n",
       "      <th>1</th>\n",
       "      <td>1</td>\n",
       "      <td>a</td>\n",
       "    </tr>\n",
       "    <tr>\n",
       "      <th>2</th>\n",
       "      <td>2</td>\n",
       "      <td>a</td>\n",
       "    </tr>\n",
       "    <tr>\n",
       "      <th>3</th>\n",
       "      <td>3</td>\n",
       "      <td>a</td>\n",
       "    </tr>\n",
       "    <tr>\n",
       "      <th>4</th>\n",
       "      <td>4</td>\n",
       "      <td>a</td>\n",
       "    </tr>\n",
       "  </tbody>\n",
       "</table>\n",
       "</div>"
      ],
      "text/plain": [
       "   n group\n",
       "0  0     c\n",
       "1  1     a\n",
       "2  2     a\n",
       "3  3     a\n",
       "4  4     a"
      ]
     },
     "execution_count": 7,
     "metadata": {},
     "output_type": "execute_result"
    }
   ],
   "source": [
    "np.random.seed(452)\n",
    "\n",
    "pandas_dataframe = pd.DataFrame(\n",
    "    dict(n=np.arange(20), group=np.random.choice(list(\"abc\"), 20))\n",
    ")\n",
    "\n",
    "pandas_dataframe.head()"
   ]
  },
  {
   "cell_type": "code",
   "execution_count": 8,
   "id": "baf7e57a",
   "metadata": {},
   "outputs": [
    {
     "data": {
      "text/plain": [
       "DataFrame[n: bigint, group: string]"
      ]
     },
     "execution_count": 8,
     "metadata": {},
     "output_type": "execute_result"
    }
   ],
   "source": [
    "#create spark dataframe \n",
    "df = spark.createDataFrame(pandas_dataframe)\n",
    "df"
   ]
  },
  {
   "cell_type": "code",
   "execution_count": 9,
   "id": "69b58a84",
   "metadata": {},
   "outputs": [
    {
     "name": "stderr",
     "output_type": "stream",
     "text": [
      "\r",
      "[Stage 3:>                                                          (0 + 1) / 1]\r"
     ]
    },
    {
     "name": "stdout",
     "output_type": "stream",
     "text": [
      "+---+-----+\n",
      "|  n|group|\n",
      "+---+-----+\n",
      "|  0|    c|\n",
      "|  1|    a|\n",
      "|  2|    a|\n",
      "|  3|    a|\n",
      "|  4|    a|\n",
      "|  5|    a|\n",
      "|  6|    c|\n",
      "|  7|    c|\n",
      "|  8|    a|\n",
      "|  9|    a|\n",
      "| 10|    b|\n",
      "| 11|    a|\n",
      "| 12|    a|\n",
      "| 13|    a|\n",
      "| 14|    a|\n",
      "| 15|    a|\n",
      "| 16|    b|\n",
      "| 17|    a|\n",
      "| 18|    c|\n",
      "| 19|    a|\n",
      "+---+-----+\n",
      "\n"
     ]
    },
    {
     "name": "stderr",
     "output_type": "stream",
     "text": [
      "\r",
      "                                                                                \r"
     ]
    }
   ],
   "source": [
    "df.show()"
   ]
  },
  {
   "cell_type": "code",
   "execution_count": 10,
   "id": "6feca265",
   "metadata": {},
   "outputs": [],
   "source": [
    "from pydataset import data"
   ]
  },
  {
   "cell_type": "code",
   "execution_count": 11,
   "id": "77d44e65",
   "metadata": {},
   "outputs": [
    {
     "data": {
      "text/plain": [
       "DataFrame[manufacturer: string, model: string, displ: double, year: bigint, cyl: bigint, trans: string, drv: string, cty: bigint, hwy: bigint, fl: string, class: string]"
      ]
     },
     "execution_count": 11,
     "metadata": {},
     "output_type": "execute_result"
    }
   ],
   "source": [
    "df = spark.createDataFrame(data('mpg'))\n",
    "df"
   ]
  },
  {
   "cell_type": "code",
   "execution_count": 12,
   "id": "52d0dff0",
   "metadata": {},
   "outputs": [
    {
     "name": "stdout",
     "output_type": "stream",
     "text": [
      "+------------+-----+-----+----+---+----------+---+---+---+---+-------+\n",
      "|manufacturer|model|displ|year|cyl|     trans|drv|cty|hwy| fl|  class|\n",
      "+------------+-----+-----+----+---+----------+---+---+---+---+-------+\n",
      "|        audi|   a4|  1.8|1999|  4|  auto(l5)|  f| 18| 29|  p|compact|\n",
      "|        audi|   a4|  1.8|1999|  4|manual(m5)|  f| 21| 29|  p|compact|\n",
      "|        audi|   a4|  2.0|2008|  4|manual(m6)|  f| 20| 31|  p|compact|\n",
      "|        audi|   a4|  2.0|2008|  4|  auto(av)|  f| 21| 30|  p|compact|\n",
      "|        audi|   a4|  2.8|1999|  6|  auto(l5)|  f| 16| 26|  p|compact|\n",
      "+------------+-----+-----+----+---+----------+---+---+---+---+-------+\n",
      "only showing top 5 rows\n",
      "\n"
     ]
    }
   ],
   "source": [
    "df.show(5)"
   ]
  },
  {
   "cell_type": "code",
   "execution_count": 13,
   "id": "20e00a90",
   "metadata": {},
   "outputs": [
    {
     "name": "stderr",
     "output_type": "stream",
     "text": [
      "23/07/05 09:13:09 WARN package: Truncated the string representation of a plan since it was too large. This behavior can be adjusted by setting 'spark.sql.debug.maxToStringFields'.\n",
      "[Stage 7:>                                                          (0 + 8) / 8]\r"
     ]
    },
    {
     "name": "stdout",
     "output_type": "stream",
     "text": [
      "+-------+------------+-----------------+------------------+-----------------+-----------------+----------+---+------------------+-----------------+----+-------+\n",
      "|summary|manufacturer|            model|             displ|             year|              cyl|     trans|drv|               cty|              hwy|  fl|  class|\n",
      "+-------+------------+-----------------+------------------+-----------------+-----------------+----------+---+------------------+-----------------+----+-------+\n",
      "|  count|         234|              234|               234|              234|              234|       234|234|               234|              234| 234|    234|\n",
      "|   mean|        null|             null| 3.471794871794872|           2003.5|5.888888888888889|      null|4.0|16.858974358974358|23.44017094017094|null|   null|\n",
      "| stddev|        null|             null|1.2919590310839348|4.509646313320436|1.611534484684289|      null|0.0| 4.255945678889394|5.954643441166448|null|   null|\n",
      "|    min|        audi|      4runner 4wd|               1.6|             1999|                4|  auto(av)|  4|                 9|               12|   c|2seater|\n",
      "|    max|  volkswagen|toyota tacoma 4wd|               7.0|             2008|                8|manual(m6)|  r|                35|               44|   r|    suv|\n",
      "+-------+------------+-----------------+------------------+-----------------+-----------------+----------+---+------------------+-----------------+----+-------+\n",
      "\n"
     ]
    },
    {
     "name": "stderr",
     "output_type": "stream",
     "text": [
      "\r",
      "                                                                                \r"
     ]
    }
   ],
   "source": [
    "#describe\n",
    "df.describe().show()"
   ]
  },
  {
   "cell_type": "code",
   "execution_count": 14,
   "id": "567d1950",
   "metadata": {},
   "outputs": [
    {
     "name": "stdout",
     "output_type": "stream",
     "text": [
      "-RECORD 0--------------------------\n",
      " summary      | count              \n",
      " manufacturer | 234                \n",
      " model        | 234                \n",
      " displ        | 234                \n",
      " year         | 234                \n",
      " cyl          | 234                \n",
      " trans        | 234                \n",
      " drv          | 234                \n",
      " cty          | 234                \n",
      " hwy          | 234                \n",
      " fl           | 234                \n",
      " class        | 234                \n",
      "-RECORD 1--------------------------\n",
      " summary      | mean               \n",
      " manufacturer | null               \n",
      " model        | null               \n",
      " displ        | 3.471794871794872  \n",
      " year         | 2003.5             \n",
      " cyl          | 5.888888888888889  \n",
      " trans        | null               \n",
      " drv          | 4.0                \n",
      " cty          | 16.858974358974358 \n",
      " hwy          | 23.44017094017094  \n",
      " fl           | null               \n",
      " class        | null               \n",
      "only showing top 2 rows\n",
      "\n"
     ]
    }
   ],
   "source": [
    "#describe vertical\n",
    "df.describe().show(2, vertical=True)"
   ]
  },
  {
   "cell_type": "code",
   "execution_count": 15,
   "id": "96c36af5",
   "metadata": {},
   "outputs": [
    {
     "name": "stdout",
     "output_type": "stream",
     "text": [
      "root\n",
      " |-- manufacturer: string (nullable = true)\n",
      " |-- model: string (nullable = true)\n",
      " |-- displ: double (nullable = true)\n",
      " |-- year: long (nullable = true)\n",
      " |-- cyl: long (nullable = true)\n",
      " |-- trans: string (nullable = true)\n",
      " |-- drv: string (nullable = true)\n",
      " |-- cty: long (nullable = true)\n",
      " |-- hwy: long (nullable = true)\n",
      " |-- fl: string (nullable = true)\n",
      " |-- class: string (nullable = true)\n",
      "\n"
     ]
    }
   ],
   "source": [
    "#printSchema\n",
    "df.printSchema()"
   ]
  },
  {
   "cell_type": "code",
   "execution_count": 16,
   "id": "e7337dc0",
   "metadata": {},
   "outputs": [
    {
     "data": {
      "text/plain": [
       "[('manufacturer', 'string'),\n",
       " ('model', 'string'),\n",
       " ('displ', 'double'),\n",
       " ('year', 'bigint'),\n",
       " ('cyl', 'bigint'),\n",
       " ('trans', 'string'),\n",
       " ('drv', 'string'),\n",
       " ('cty', 'bigint'),\n",
       " ('hwy', 'bigint'),\n",
       " ('fl', 'string'),\n",
       " ('class', 'string')]"
      ]
     },
     "execution_count": 16,
     "metadata": {},
     "output_type": "execute_result"
    }
   ],
   "source": [
    "#dtypes\n",
    "df.dtypes"
   ]
  },
  {
   "cell_type": "code",
   "execution_count": 17,
   "id": "1aede5fb",
   "metadata": {},
   "outputs": [
    {
     "data": {
      "text/plain": [
       "234"
      ]
     },
     "execution_count": 17,
     "metadata": {},
     "output_type": "execute_result"
    }
   ],
   "source": [
    "#number of rows\n",
    "df.count()"
   ]
  },
  {
   "cell_type": "code",
   "execution_count": 18,
   "id": "2d64e3ce",
   "metadata": {},
   "outputs": [
    {
     "data": {
      "text/plain": [
       "11"
      ]
     },
     "execution_count": 18,
     "metadata": {},
     "output_type": "execute_result"
    }
   ],
   "source": [
    "#number of columns\n",
    "len(df.columns)"
   ]
  },
  {
   "cell_type": "code",
   "execution_count": 19,
   "id": "76e3cd8d",
   "metadata": {},
   "outputs": [
    {
     "data": {
      "text/plain": [
       "DataFrame[trans: string]"
      ]
     },
     "execution_count": 19,
     "metadata": {},
     "output_type": "execute_result"
    }
   ],
   "source": [
    "# select columns\n",
    "df.select('trans')"
   ]
  },
  {
   "cell_type": "code",
   "execution_count": 20,
   "id": "f81e9351",
   "metadata": {},
   "outputs": [
    {
     "name": "stdout",
     "output_type": "stream",
     "text": [
      "+----------+\n",
      "|     trans|\n",
      "+----------+\n",
      "|  auto(l5)|\n",
      "|manual(m5)|\n",
      "|manual(m6)|\n",
      "|  auto(av)|\n",
      "|  auto(l5)|\n",
      "+----------+\n",
      "only showing top 5 rows\n",
      "\n"
     ]
    }
   ],
   "source": [
    "df.select(df.trans).show(5)"
   ]
  },
  {
   "cell_type": "code",
   "execution_count": 21,
   "id": "b6ee587c",
   "metadata": {},
   "outputs": [
    {
     "name": "stdout",
     "output_type": "stream",
     "text": [
      "+----------+---+\n",
      "|     trans|hwy|\n",
      "+----------+---+\n",
      "|  auto(l5)| 29|\n",
      "|manual(m5)| 29|\n",
      "|manual(m6)| 31|\n",
      "|  auto(av)| 30|\n",
      "|  auto(l5)| 26|\n",
      "+----------+---+\n",
      "only showing top 5 rows\n",
      "\n"
     ]
    }
   ],
   "source": [
    "#select two columns\n",
    "df.select('trans','hwy').show(5)"
   ]
  },
  {
   "cell_type": "code",
   "execution_count": 22,
   "id": "fe5c8f91",
   "metadata": {},
   "outputs": [
    {
     "name": "stdout",
     "output_type": "stream",
     "text": [
      "+-----+----+\n",
      "|model|year|\n",
      "+-----+----+\n",
      "|   a4|1999|\n",
      "|   a4|1999|\n",
      "|   a4|2008|\n",
      "|   a4|2008|\n",
      "|   a4|1999|\n",
      "+-----+----+\n",
      "only showing top 5 rows\n",
      "\n"
     ]
    }
   ],
   "source": [
    "df_cols = df.select('model','year').show(5)"
   ]
  },
  {
   "cell_type": "code",
   "execution_count": 24,
   "id": "ae86a3c8",
   "metadata": {},
   "outputs": [],
   "source": [
    "#remove the .show()\n",
    "df_cols = df.select('model','year')"
   ]
  },
  {
   "cell_type": "code",
   "execution_count": 25,
   "id": "a181c6ba",
   "metadata": {},
   "outputs": [
    {
     "name": "stdout",
     "output_type": "stream",
     "text": [
      "+------------------+----+\n",
      "|             model|year|\n",
      "+------------------+----+\n",
      "|                a4|1999|\n",
      "|                a4|1999|\n",
      "|                a4|2008|\n",
      "|                a4|2008|\n",
      "|                a4|1999|\n",
      "|                a4|1999|\n",
      "|                a4|2008|\n",
      "|        a4 quattro|1999|\n",
      "|        a4 quattro|1999|\n",
      "|        a4 quattro|2008|\n",
      "|        a4 quattro|2008|\n",
      "|        a4 quattro|1999|\n",
      "|        a4 quattro|1999|\n",
      "|        a4 quattro|2008|\n",
      "|        a4 quattro|2008|\n",
      "|        a6 quattro|1999|\n",
      "|        a6 quattro|2008|\n",
      "|        a6 quattro|2008|\n",
      "|c1500 suburban 2wd|2008|\n",
      "|c1500 suburban 2wd|2008|\n",
      "+------------------+----+\n",
      "only showing top 20 rows\n",
      "\n"
     ]
    }
   ],
   "source": [
    "df_cols.show()"
   ]
  },
  {
   "cell_type": "markdown",
   "id": "a2320ec3",
   "metadata": {},
   "source": [
    "# create columns \n",
    "* use basic math operators\n",
    "\n",
    "* change column names: alias"
   ]
  },
  {
   "cell_type": "code",
   "execution_count": 26,
   "id": "d4a64c0c",
   "metadata": {},
   "outputs": [
    {
     "name": "stdout",
     "output_type": "stream",
     "text": [
      "+------------+-----+-----+----+---+----------+---+---+---+---+-------+\n",
      "|manufacturer|model|displ|year|cyl|     trans|drv|cty|hwy| fl|  class|\n",
      "+------------+-----+-----+----+---+----------+---+---+---+---+-------+\n",
      "|        audi|   a4|  1.8|1999|  4|  auto(l5)|  f| 18| 29|  p|compact|\n",
      "|        audi|   a4|  1.8|1999|  4|manual(m5)|  f| 21| 29|  p|compact|\n",
      "|        audi|   a4|  2.0|2008|  4|manual(m6)|  f| 20| 31|  p|compact|\n",
      "|        audi|   a4|  2.0|2008|  4|  auto(av)|  f| 21| 30|  p|compact|\n",
      "|        audi|   a4|  2.8|1999|  6|  auto(l5)|  f| 16| 26|  p|compact|\n",
      "+------------+-----+-----+----+---+----------+---+---+---+---+-------+\n",
      "only showing top 5 rows\n",
      "\n"
     ]
    }
   ],
   "source": [
    "df.show(5)"
   ]
  },
  {
   "cell_type": "code",
   "execution_count": 27,
   "id": "acea5242",
   "metadata": {},
   "outputs": [
    {
     "data": {
      "text/plain": [
       "Column<'(hwy / 2)'>"
      ]
     },
     "execution_count": 27,
     "metadata": {},
     "output_type": "execute_result"
    }
   ],
   "source": [
    "df.hwy / 2"
   ]
  },
  {
   "cell_type": "code",
   "execution_count": 28,
   "id": "7e68181d",
   "metadata": {},
   "outputs": [
    {
     "name": "stdout",
     "output_type": "stream",
     "text": [
      "+---+--------+\n",
      "|hwy|half_hwy|\n",
      "+---+--------+\n",
      "| 29|    14.5|\n",
      "| 29|    14.5|\n",
      "| 31|    15.5|\n",
      "| 30|    15.0|\n",
      "| 26|    13.0|\n",
      "+---+--------+\n",
      "only showing top 5 rows\n",
      "\n"
     ]
    }
   ],
   "source": [
    "# creating a column using .alias()\n",
    "df.select(\n",
    "    df.hwy,\n",
    "     (df.hwy / 2).alias('half_hwy')\n",
    ").show(5)"
   ]
  },
  {
   "cell_type": "code",
   "execution_count": 29,
   "id": "848beb83",
   "metadata": {},
   "outputs": [
    {
     "name": "stdout",
     "output_type": "stream",
     "text": [
      "+------------+-----+-----+----+---+----------+---+---+---+---+-------+\n",
      "|manufacturer|model|displ|year|cyl|     trans|drv|cty|hwy| fl|  class|\n",
      "+------------+-----+-----+----+---+----------+---+---+---+---+-------+\n",
      "|        audi|   a4|  1.8|1999|  4|  auto(l5)|  f| 18| 29|  p|compact|\n",
      "|        audi|   a4|  1.8|1999|  4|manual(m5)|  f| 21| 29|  p|compact|\n",
      "|        audi|   a4|  2.0|2008|  4|manual(m6)|  f| 20| 31|  p|compact|\n",
      "|        audi|   a4|  2.0|2008|  4|  auto(av)|  f| 21| 30|  p|compact|\n",
      "|        audi|   a4|  2.8|1999|  6|  auto(l5)|  f| 16| 26|  p|compact|\n",
      "+------------+-----+-----+----+---+----------+---+---+---+---+-------+\n",
      "only showing top 5 rows\n",
      "\n"
     ]
    }
   ],
   "source": [
    "df.show(5)"
   ]
  },
  {
   "cell_type": "markdown",
   "id": "87efd58b",
   "metadata": {},
   "source": [
    "# select & create columns: col"
   ]
  },
  {
   "cell_type": "code",
   "execution_count": 30,
   "id": "47dab17d",
   "metadata": {},
   "outputs": [],
   "source": [
    "from pyspark.sql.functions import col"
   ]
  },
  {
   "cell_type": "code",
   "execution_count": 31,
   "id": "52a656af",
   "metadata": {},
   "outputs": [
    {
     "name": "stdout",
     "output_type": "stream",
     "text": [
      "+---+---+---------+-----------+\n",
      "|hwy|hwy|(hwy + 1)|hwy_and_cty|\n",
      "+---+---+---------+-----------+\n",
      "| 29| 29|       30|         47|\n",
      "| 29| 29|       30|         50|\n",
      "| 31| 31|       32|         51|\n",
      "| 30| 30|       31|         51|\n",
      "| 26| 26|       27|         42|\n",
      "+---+---+---------+-----------+\n",
      "only showing top 5 rows\n",
      "\n"
     ]
    }
   ],
   "source": [
    "df.select(\n",
    "    df.hwy,\n",
    "    col('hwy'),\n",
    "    col('hwy') + 1,\n",
    "    (col('hwy') + col('cty')).alias('hwy_and_cty')\n",
    "\n",
    ").show(5)"
   ]
  },
  {
   "cell_type": "markdown",
   "id": "f28146f2",
   "metadata": {},
   "source": [
    "# select & create columns: expr\n"
   ]
  },
  {
   "cell_type": "code",
   "execution_count": 32,
   "id": "adcc4089",
   "metadata": {},
   "outputs": [],
   "source": [
    "from pyspark.sql.functions import expr"
   ]
  },
  {
   "cell_type": "code",
   "execution_count": 33,
   "id": "d396ef18",
   "metadata": {},
   "outputs": [
    {
     "name": "stdout",
     "output_type": "stream",
     "text": [
      "+---+---------+-------+\n",
      "|hwy|(hwy + 1)|highway|\n",
      "+---+---------+-------+\n",
      "| 29|       30|     29|\n",
      "| 29|       30|     29|\n",
      "| 31|       32|     31|\n",
      "| 30|       31|     30|\n",
      "| 26|       27|     26|\n",
      "+---+---------+-------+\n",
      "only showing top 5 rows\n",
      "\n"
     ]
    }
   ],
   "source": [
    "df.select(\n",
    "    expr('hwy'),\n",
    "    expr('hwy + 1'),\n",
    "    expr('hwy as highway')\n",
    ").show(5)"
   ]
  },
  {
   "cell_type": "markdown",
   "id": "e4df70ce",
   "metadata": {},
   "source": [
    "# create column: withColumn\n",
    "this will keep our initial dataframe and add a new column"
   ]
  },
  {
   "cell_type": "code",
   "execution_count": 34,
   "id": "59e91df0",
   "metadata": {},
   "outputs": [
    {
     "name": "stdout",
     "output_type": "stream",
     "text": [
      "+------------+----------+-----+----+---+----------+---+---+---+---+-------+------------+\n",
      "|manufacturer|     model|displ|year|cyl|     trans|drv|cty|hwy| fl|  class|hwy_plus_one|\n",
      "+------------+----------+-----+----+---+----------+---+---+---+---+-------+------------+\n",
      "|        audi|        a4|  1.8|1999|  4|  auto(l5)|  f| 18| 29|  p|compact|          30|\n",
      "|        audi|        a4|  1.8|1999|  4|manual(m5)|  f| 21| 29|  p|compact|          30|\n",
      "|        audi|        a4|  2.0|2008|  4|manual(m6)|  f| 20| 31|  p|compact|          32|\n",
      "|        audi|        a4|  2.0|2008|  4|  auto(av)|  f| 21| 30|  p|compact|          31|\n",
      "|        audi|        a4|  2.8|1999|  6|  auto(l5)|  f| 16| 26|  p|compact|          27|\n",
      "|        audi|        a4|  2.8|1999|  6|manual(m5)|  f| 18| 26|  p|compact|          27|\n",
      "|        audi|        a4|  3.1|2008|  6|  auto(av)|  f| 18| 27|  p|compact|          28|\n",
      "|        audi|a4 quattro|  1.8|1999|  4|manual(m5)|  4| 18| 26|  p|compact|          27|\n",
      "|        audi|a4 quattro|  1.8|1999|  4|  auto(l5)|  4| 16| 25|  p|compact|          26|\n",
      "|        audi|a4 quattro|  2.0|2008|  4|manual(m6)|  4| 20| 28|  p|compact|          29|\n",
      "+------------+----------+-----+----+---+----------+---+---+---+---+-------+------------+\n",
      "only showing top 10 rows\n",
      "\n"
     ]
    }
   ],
   "source": [
    "df.withColumn(\n",
    "    'hwy_plus_one', #new column name\n",
    "    col('hwy') + 1 #how the new column is created\n",
    ").show(10)"
   ]
  },
  {
   "cell_type": "code",
   "execution_count": 35,
   "id": "e8bd6209",
   "metadata": {},
   "outputs": [
    {
     "name": "stdout",
     "output_type": "stream",
     "text": [
      "+------------+----------+-----+----+---+----------+---+---+---+---+-------+\n",
      "|manufacturer|     model|displ|year|cyl|     trans|drv|cty|hwy| fl|  class|\n",
      "+------------+----------+-----+----+---+----------+---+---+---+---+-------+\n",
      "|        audi|        a4|  1.8|1999|  4|  auto(l5)|  f| 18| 29|  p|compact|\n",
      "|        audi|        a4|  1.8|1999|  4|manual(m5)|  f| 21| 29|  p|compact|\n",
      "|        audi|        a4|  2.0|2008|  4|manual(m6)|  f| 20| 31|  p|compact|\n",
      "|        audi|        a4|  2.0|2008|  4|  auto(av)|  f| 21| 30|  p|compact|\n",
      "|        audi|        a4|  2.8|1999|  6|  auto(l5)|  f| 16| 26|  p|compact|\n",
      "|        audi|        a4|  2.8|1999|  6|manual(m5)|  f| 18| 26|  p|compact|\n",
      "|        audi|        a4|  3.1|2008|  6|  auto(av)|  f| 18| 27|  p|compact|\n",
      "|        audi|a4 quattro|  1.8|1999|  4|manual(m5)|  4| 18| 26|  p|compact|\n",
      "|        audi|a4 quattro|  1.8|1999|  4|  auto(l5)|  4| 16| 25|  p|compact|\n",
      "|        audi|a4 quattro|  2.0|2008|  4|manual(m6)|  4| 20| 28|  p|compact|\n",
      "+------------+----------+-----+----+---+----------+---+---+---+---+-------+\n",
      "only showing top 10 rows\n",
      "\n"
     ]
    }
   ],
   "source": [
    "df.show(10)"
   ]
  },
  {
   "cell_type": "markdown",
   "id": "1262a548",
   "metadata": {},
   "source": [
    "# Transforming columns\n",
    "# built-in functions - math"
   ]
  },
  {
   "cell_type": "code",
   "execution_count": 36,
   "id": "86adc535",
   "metadata": {},
   "outputs": [],
   "source": [
    "from pyspark.sql.functions import min, max, sum, count, mean, avg"
   ]
  },
  {
   "cell_type": "code",
   "execution_count": 39,
   "id": "4d9ddf39",
   "metadata": {},
   "outputs": [
    {
     "name": "stdout",
     "output_type": "stream",
     "text": [
      "+-------+--------+-----------------+-----------------+----------+\n",
      "|min_hwy|max(hwy)|         avg(hwy)|         avg(hwy)|count(hwy)|\n",
      "+-------+--------+-----------------+-----------------+----------+\n",
      "|     12|      44|23.44017094017094|23.44017094017094|       234|\n",
      "+-------+--------+-----------------+-----------------+----------+\n",
      "\n"
     ]
    }
   ],
   "source": [
    "#use min, max, and calculate average highway mileage\n",
    "df.select(\n",
    "    min(df.hwy).alias(\"min_hwy\"), # create alias for first column\n",
    "    max(df.hwy),\n",
    "    avg(df.hwy),\n",
    "    mean(df.hwy),\n",
    "    count(col('hwy'))\n",
    ").show(5)"
   ]
  },
  {
   "cell_type": "markdown",
   "id": "c5b7a0a7",
   "metadata": {},
   "source": [
    "# built-in functions - strings\n",
    "* concat: to concatenate strings\n",
    "    \n",
    "* lit: creates literal value of character"
   ]
  },
  {
   "cell_type": "code",
   "execution_count": 41,
   "id": "e008d476",
   "metadata": {},
   "outputs": [],
   "source": [
    "from pyspark.sql.functions import concat, lit"
   ]
  },
  {
   "cell_type": "code",
   "execution_count": 42,
   "id": "1ca9be9a",
   "metadata": {},
   "outputs": [
    {
     "name": "stdout",
     "output_type": "stream",
     "text": [
      "+------------+-----+-----+----+---+----------+---+---+---+---+-------+\n",
      "|manufacturer|model|displ|year|cyl|     trans|drv|cty|hwy| fl|  class|\n",
      "+------------+-----+-----+----+---+----------+---+---+---+---+-------+\n",
      "|        audi|   a4|  1.8|1999|  4|  auto(l5)|  f| 18| 29|  p|compact|\n",
      "|        audi|   a4|  1.8|1999|  4|manual(m5)|  f| 21| 29|  p|compact|\n",
      "|        audi|   a4|  2.0|2008|  4|manual(m6)|  f| 20| 31|  p|compact|\n",
      "|        audi|   a4|  2.0|2008|  4|  auto(av)|  f| 21| 30|  p|compact|\n",
      "|        audi|   a4|  2.8|1999|  6|  auto(l5)|  f| 16| 26|  p|compact|\n",
      "+------------+-----+-----+----+---+----------+---+---+---+---+-------+\n",
      "only showing top 5 rows\n",
      "\n"
     ]
    }
   ],
   "source": [
    "df.show(5)"
   ]
  },
  {
   "cell_type": "code",
   "execution_count": 43,
   "id": "184f5716",
   "metadata": {},
   "outputs": [
    {
     "name": "stdout",
     "output_type": "stream",
     "text": [
      "+---------------------------+\n",
      "|concat(manufacturer, model)|\n",
      "+---------------------------+\n",
      "|                     audia4|\n",
      "|                     audia4|\n",
      "|                     audia4|\n",
      "|                     audia4|\n",
      "|                     audia4|\n",
      "+---------------------------+\n",
      "only showing top 5 rows\n",
      "\n"
     ]
    }
   ],
   "source": [
    "#combine manufacturer and model together\n",
    "df.select(\n",
    "    concat(df.manufacturer, df.model)\n",
    ").show(5)"
   ]
  },
  {
   "cell_type": "code",
   "execution_count": 44,
   "id": "2f5edc2f",
   "metadata": {},
   "outputs": [
    {
     "name": "stdout",
     "output_type": "stream",
     "text": [
      "+----------------------+\n",
      "|(manufacturer + model)|\n",
      "+----------------------+\n",
      "|                  null|\n",
      "|                  null|\n",
      "|                  null|\n",
      "|                  null|\n",
      "|                  null|\n",
      "+----------------------+\n",
      "only showing top 5 rows\n",
      "\n"
     ]
    }
   ],
   "source": [
    "#combine manufacturer and model together\n",
    "df.select(\n",
    "    df.manufacturer + df.model\n",
    ").show(5)"
   ]
  },
  {
   "cell_type": "code",
   "execution_count": 45,
   "id": "fd8db44e",
   "metadata": {},
   "outputs": [
    {
     "name": "stdout",
     "output_type": "stream",
     "text": [
      "+--------------+\n",
      "|make_and_model|\n",
      "+--------------+\n",
      "|       audi a4|\n",
      "|       audi a4|\n",
      "|       audi a4|\n",
      "|       audi a4|\n",
      "|       audi a4|\n",
      "+--------------+\n",
      "only showing top 5 rows\n",
      "\n"
     ]
    }
   ],
   "source": [
    "df.select(\n",
    "    concat(df.manufacturer, lit(' '), df.model).alias('make_and_model')\n",
    ").show(5)"
   ]
  },
  {
   "cell_type": "code",
   "execution_count": 46,
   "id": "478d76ff",
   "metadata": {},
   "outputs": [
    {
     "name": "stdout",
     "output_type": "stream",
     "text": [
      "+---+---+----------------+\n",
      "|cty|hwy|concat(cty, hwy)|\n",
      "+---+---+----------------+\n",
      "| 18| 29|            1829|\n",
      "| 21| 29|            2129|\n",
      "| 20| 31|            2031|\n",
      "| 21| 30|            2130|\n",
      "| 16| 26|            1626|\n",
      "+---+---+----------------+\n",
      "only showing top 5 rows\n",
      "\n"
     ]
    }
   ],
   "source": [
    "#combine city and highway together\n",
    "df.select(\n",
    "    df.cty,\n",
    "    df.hwy,\n",
    "    concat(df.cty, df.hwy)\n",
    ").show(5)"
   ]
  },
  {
   "cell_type": "code",
   "execution_count": 47,
   "id": "d939d102",
   "metadata": {},
   "outputs": [
    {
     "data": {
      "text/plain": [
       "[('manufacturer', 'string'),\n",
       " ('model', 'string'),\n",
       " ('displ', 'double'),\n",
       " ('year', 'bigint'),\n",
       " ('cyl', 'bigint'),\n",
       " ('trans', 'string'),\n",
       " ('drv', 'string'),\n",
       " ('cty', 'bigint'),\n",
       " ('hwy', 'bigint'),\n",
       " ('fl', 'string'),\n",
       " ('class', 'string')]"
      ]
     },
     "execution_count": 47,
     "metadata": {},
     "output_type": "execute_result"
    }
   ],
   "source": [
    "df.dtypes"
   ]
  },
  {
   "cell_type": "markdown",
   "id": "f7f9ef55",
   "metadata": {},
   "source": [
    "# Regex!\n",
    "* regexp_extract: use regex to extract data\n",
    "\n",
    "* regexp_replace: use regex to replace data"
   ]
  },
  {
   "cell_type": "code",
   "execution_count": 48,
   "id": "d55e8485",
   "metadata": {},
   "outputs": [],
   "source": [
    "from pyspark.sql.functions import regexp_extract, regexp_replace"
   ]
  },
  {
   "cell_type": "code",
   "execution_count": 49,
   "id": "b4fcb1c0",
   "metadata": {},
   "outputs": [
    {
     "name": "stdout",
     "output_type": "stream",
     "text": [
      "+-----------------------------------------------+\n",
      "|address                                        |\n",
      "+-----------------------------------------------+\n",
      "|600 Navarro St ste 600, San Antonio, TX 78205  |\n",
      "|3130 Broadway St, San Antonio, TX 78209        |\n",
      "|303 Pearl Pkwy, San Antonio, TX 78215          |\n",
      "|1255 SW Loop 410!!!!, San - Antonio, TX @78227@|\n",
      "+-----------------------------------------------+\n",
      "\n"
     ]
    }
   ],
   "source": [
    "textdf = spark.createDataFrame(\n",
    "    pd.DataFrame(\n",
    "        {\n",
    "            \"address\": [\n",
    "                \"600 Navarro St ste 600, San Antonio, TX 78205\",\n",
    "                \"3130 Broadway St, San Antonio, TX 78209\",\n",
    "                \"303 Pearl Pkwy, San Antonio, TX 78215\",\n",
    "                \"1255 SW Loop 410!!!!, San - Antonio, TX @78227@\",\n",
    "            ]\n",
    "        }\n",
    "    )\n",
    ")\n",
    "\n",
    "textdf.show(truncate=False)"
   ]
  },
  {
   "cell_type": "code",
   "execution_count": 50,
   "id": "ad90faf6",
   "metadata": {},
   "outputs": [
    {
     "name": "stdout",
     "output_type": "stream",
     "text": [
      "+-----------------------------------------------+---------+-----------+-------------------------------------------+\n",
      "|address                                        |street_no|street_name|clean_address                              |\n",
      "+-----------------------------------------------+---------+-----------+-------------------------------------------+\n",
      "|600 Navarro St ste 600, San Antonio, TX 78205  |600      |Navarro    |600 Navarro St ste 600 San Antonio TX 78205|\n",
      "|3130 Broadway St, San Antonio, TX 78209        |3130     |Broadway   |3130 Broadway St San Antonio TX 78209      |\n",
      "|303 Pearl Pkwy, San Antonio, TX 78215          |303      |Pearl      |303 Pearl Pkwy San Antonio TX 78215        |\n",
      "|1255 SW Loop 410!!!!, San - Antonio, TX @78227@|1255     |SW         |1255 SW Loop 410 San  Antonio TX 78227     |\n",
      "+-----------------------------------------------+---------+-----------+-------------------------------------------+\n",
      "\n"
     ]
    }
   ],
   "source": [
    "textdf.select(\n",
    "    'address',\n",
    "    regexp_extract('address', r'(\\d+)', 1).alias('street_no'),\n",
    "    regexp_extract('address', r'(\\d+)\\s(\\w+)', 2).alias('street_name'),\n",
    "    regexp_replace('address', r'[^\\w\\s]', '').alias('clean_address')\n",
    ").show(truncate=False)"
   ]
  },
  {
   "cell_type": "markdown",
   "id": "1642ce85",
   "metadata": {},
   "source": [
    "# Filter and Where "
   ]
  },
  {
   "cell_type": "code",
   "execution_count": 51,
   "id": "970e792f",
   "metadata": {},
   "outputs": [
    {
     "data": {
      "text/plain": [
       "DataFrame[manufacturer: string, model: string, displ: double, year: bigint, cyl: bigint, trans: string, drv: string, cty: bigint, hwy: bigint, fl: string, class: string]"
      ]
     },
     "execution_count": 51,
     "metadata": {},
     "output_type": "execute_result"
    }
   ],
   "source": [
    "df = spark.createDataFrame(data('mpg'))\n",
    "df"
   ]
  },
  {
   "cell_type": "code",
   "execution_count": 52,
   "id": "3e3c6803",
   "metadata": {},
   "outputs": [
    {
     "name": "stdout",
     "output_type": "stream",
     "text": [
      "+------------+-----+-----+----+---+----------+---+---+---+---+-------+\n",
      "|manufacturer|model|displ|year|cyl|     trans|drv|cty|hwy| fl|  class|\n",
      "+------------+-----+-----+----+---+----------+---+---+---+---+-------+\n",
      "|        audi|   a4|  1.8|1999|  4|  auto(l5)|  f| 18| 29|  p|compact|\n",
      "|        audi|   a4|  1.8|1999|  4|manual(m5)|  f| 21| 29|  p|compact|\n",
      "|        audi|   a4|  2.0|2008|  4|manual(m6)|  f| 20| 31|  p|compact|\n",
      "|        audi|   a4|  2.0|2008|  4|  auto(av)|  f| 21| 30|  p|compact|\n",
      "|        audi|   a4|  2.8|1999|  6|  auto(l5)|  f| 16| 26|  p|compact|\n",
      "+------------+-----+-----+----+---+----------+---+---+---+---+-------+\n",
      "only showing top 5 rows\n",
      "\n"
     ]
    }
   ],
   "source": [
    "\n",
    "df.show(5)"
   ]
  },
  {
   "cell_type": "code",
   "execution_count": 53,
   "id": "37736d18",
   "metadata": {},
   "outputs": [
    {
     "name": "stdout",
     "output_type": "stream",
     "text": [
      "+------------+------+-----+----+---+----------+---+---+---+---+-------+\n",
      "|manufacturer| model|displ|year|cyl|     trans|drv|cty|hwy| fl|  class|\n",
      "+------------+------+-----+----+---+----------+---+---+---+---+-------+\n",
      "|   chevrolet|malibu|  2.4|1999|  4|  auto(l4)|  f| 19| 27|  r|midsize|\n",
      "|   chevrolet|malibu|  2.4|2008|  4|  auto(l4)|  f| 22| 30|  r|midsize|\n",
      "|     hyundai|sonata|  2.4|1999|  4|  auto(l4)|  f| 18| 26|  r|midsize|\n",
      "|     hyundai|sonata|  2.4|1999|  4|manual(m5)|  f| 18| 27|  r|midsize|\n",
      "|     hyundai|sonata|  2.4|2008|  4|  auto(l4)|  f| 21| 30|  r|midsize|\n",
      "|     hyundai|sonata|  2.4|2008|  4|manual(m5)|  f| 21| 31|  r|midsize|\n",
      "|      nissan|altima|  2.5|2008|  4|  auto(av)|  f| 23| 31|  r|midsize|\n",
      "|      nissan|altima|  2.5|2008|  4|manual(m6)|  f| 23| 32|  r|midsize|\n",
      "|      toyota| camry|  2.2|1999|  4|manual(m5)|  f| 21| 29|  r|midsize|\n",
      "|      toyota| camry|  2.2|1999|  4|  auto(l4)|  f| 21| 27|  r|midsize|\n",
      "|      toyota| camry|  2.4|2008|  4|manual(m5)|  f| 21| 31|  r|midsize|\n",
      "|      toyota| camry|  2.4|2008|  4|  auto(l5)|  f| 21| 31|  r|midsize|\n",
      "|  volkswagen|passat|  1.8|1999|  4|manual(m5)|  f| 21| 29|  p|midsize|\n",
      "|  volkswagen|passat|  1.8|1999|  4|  auto(l5)|  f| 18| 29|  p|midsize|\n",
      "|  volkswagen|passat|  2.0|2008|  4|  auto(s6)|  f| 19| 28|  p|midsize|\n",
      "|  volkswagen|passat|  2.0|2008|  4|manual(m6)|  f| 21| 29|  p|midsize|\n",
      "+------------+------+-----+----+---+----------+---+---+---+---+-------+\n",
      "\n"
     ]
    }
   ],
   "source": [
    "df.filter(df.cyl == 4).where(col('class') == 'midsize').show()"
   ]
  },
  {
   "cell_type": "markdown",
   "id": "39d45a80",
   "metadata": {},
   "source": [
    "# When and Otherwise"
   ]
  },
  {
   "cell_type": "code",
   "execution_count": 54,
   "id": "248b4b46",
   "metadata": {},
   "outputs": [],
   "source": [
    "from pyspark.sql.functions import when"
   ]
  },
  {
   "cell_type": "code",
   "execution_count": 55,
   "id": "cf695ba3",
   "metadata": {},
   "outputs": [
    {
     "name": "stdout",
     "output_type": "stream",
     "text": [
      "+---+--------------+--------------+\n",
      "|hwy|good_bad_miles|good_bad_miles|\n",
      "+---+--------------+--------------+\n",
      "| 29|          good|          good|\n",
      "| 29|          good|          good|\n",
      "| 31|          good|          good|\n",
      "| 30|          good|          good|\n",
      "| 26|          null|        medium|\n",
      "| 26|          null|        medium|\n",
      "| 27|          null|        medium|\n",
      "| 26|          null|        medium|\n",
      "| 25|          null|           bad|\n",
      "| 28|          good|          good|\n",
      "+---+--------------+--------------+\n",
      "only showing top 10 rows\n",
      "\n"
     ]
    }
   ],
   "source": [
    "df.select(\n",
    "    df.hwy,\n",
    "    when(df.hwy > 27, 'good').alias('good_bad_miles'), #values are null when not in the when\n",
    "    when(df.hwy > 27, 'good').when(df.hwy > 25, 'medium').otherwise('bad').alias('good_bad_miles') #chain whens\n",
    ").show(10)"
   ]
  },
  {
   "cell_type": "markdown",
   "id": "aacc4c5e",
   "metadata": {},
   "source": [
    "# sorting and ordering"
   ]
  },
  {
   "cell_type": "code",
   "execution_count": 56,
   "id": "f21d243c",
   "metadata": {},
   "outputs": [
    {
     "name": "stdout",
     "output_type": "stream",
     "text": [
      "+------------+-----+-----+----+---+----------+---+---+---+---+-------+\n",
      "|manufacturer|model|displ|year|cyl|     trans|drv|cty|hwy| fl|  class|\n",
      "+------------+-----+-----+----+---+----------+---+---+---+---+-------+\n",
      "|        audi|   a4|  1.8|1999|  4|  auto(l5)|  f| 18| 29|  p|compact|\n",
      "|        audi|   a4|  1.8|1999|  4|manual(m5)|  f| 21| 29|  p|compact|\n",
      "|        audi|   a4|  2.0|2008|  4|manual(m6)|  f| 20| 31|  p|compact|\n",
      "|        audi|   a4|  2.0|2008|  4|  auto(av)|  f| 21| 30|  p|compact|\n",
      "|        audi|   a4|  2.8|1999|  6|  auto(l5)|  f| 16| 26|  p|compact|\n",
      "+------------+-----+-----+----+---+----------+---+---+---+---+-------+\n",
      "only showing top 5 rows\n",
      "\n"
     ]
    }
   ],
   "source": [
    "df.show(5)"
   ]
  },
  {
   "cell_type": "code",
   "execution_count": 57,
   "id": "f7de7fb6",
   "metadata": {},
   "outputs": [
    {
     "name": "stdout",
     "output_type": "stream",
     "text": [
      "+------------+-------------------+-----+----+---+----------+---+---+---+---+------+\n",
      "|manufacturer|              model|displ|year|cyl|     trans|drv|cty|hwy| fl| class|\n",
      "+------------+-------------------+-----+----+---+----------+---+---+---+---+------+\n",
      "|        jeep| grand cherokee 4wd|  4.7|2008|  8|  auto(l5)|  4|  9| 12|  e|   suv|\n",
      "|       dodge|  dakota pickup 4wd|  4.7|2008|  8|  auto(l5)|  4|  9| 12|  e|pickup|\n",
      "|       dodge|        durango 4wd|  4.7|2008|  8|  auto(l5)|  4|  9| 12|  e|   suv|\n",
      "|       dodge|ram 1500 pickup 4wd|  4.7|2008|  8|  auto(l5)|  4|  9| 12|  e|pickup|\n",
      "|       dodge|ram 1500 pickup 4wd|  4.7|2008|  8|manual(m6)|  4|  9| 12|  e|pickup|\n",
      "+------------+-------------------+-----+----+---+----------+---+---+---+---+------+\n",
      "only showing top 5 rows\n",
      "\n"
     ]
    }
   ],
   "source": [
    "df.sort(df.cty).show(5)"
   ]
  },
  {
   "cell_type": "code",
   "execution_count": 58,
   "id": "8215588a",
   "metadata": {},
   "outputs": [
    {
     "name": "stdout",
     "output_type": "stream",
     "text": [
      "+------------+----------+-----+----+---+----------+---+---+---+---+----------+\n",
      "|manufacturer|     model|displ|year|cyl|     trans|drv|cty|hwy| fl|     class|\n",
      "+------------+----------+-----+----+---+----------+---+---+---+---+----------+\n",
      "|  volkswagen|new beetle|  1.9|1999|  4|manual(m5)|  f| 35| 44|  d|subcompact|\n",
      "|  volkswagen|     jetta|  1.9|1999|  4|manual(m5)|  f| 33| 44|  d|   compact|\n",
      "|  volkswagen|new beetle|  1.9|1999|  4|  auto(l4)|  f| 29| 41|  d|subcompact|\n",
      "|       honda|     civic|  1.6|1999|  4|manual(m5)|  f| 28| 33|  r|subcompact|\n",
      "|      toyota|   corolla|  1.8|2008|  4|manual(m5)|  f| 28| 37|  r|   compact|\n",
      "+------------+----------+-----+----+---+----------+---+---+---+---+----------+\n",
      "only showing top 5 rows\n",
      "\n"
     ]
    }
   ],
   "source": [
    "df.sort(df.cty.desc()).show(5)"
   ]
  },
  {
   "cell_type": "code",
   "execution_count": 59,
   "id": "b9023eaf",
   "metadata": {},
   "outputs": [
    {
     "data": {
      "text/plain": [
       "[Row(manufacturer='jeep', model='grand cherokee 4wd', displ=4.7, year=2008, cyl=8, trans='auto(l5)', drv='4', cty=9, hwy=12, fl='e', class='suv')]"
      ]
     },
     "execution_count": 59,
     "metadata": {},
     "output_type": "execute_result"
    }
   ],
   "source": [
    "df.sort(df.cty.desc(), df.year).tail(1)"
   ]
  },
  {
   "cell_type": "markdown",
   "id": "fcb2b7b1",
   "metadata": {},
   "source": [
    "# Grouping and Aggregating"
   ]
  },
  {
   "cell_type": "code",
   "execution_count": 60,
   "id": "edbed382",
   "metadata": {},
   "outputs": [
    {
     "data": {
      "text/plain": [
       "<pyspark.sql.group.GroupedData at 0x7fe9da52ec70>"
      ]
     },
     "execution_count": 60,
     "metadata": {},
     "output_type": "execute_result"
    }
   ],
   "source": [
    "#groupby/groupBy\n",
    "df.groupBy(df.cyl)"
   ]
  },
  {
   "cell_type": "code",
   "execution_count": 62,
   "id": "fb2272d2",
   "metadata": {},
   "outputs": [
    {
     "name": "stdout",
     "output_type": "stream",
     "text": [
      "+---+-----------------+\n",
      "|cyl|         avg(hwy)|\n",
      "+---+-----------------+\n",
      "|  4|28.80246913580247|\n",
      "|  8|17.62857142857143|\n",
      "|  6|22.82278481012658|\n",
      "|  5|            28.75|\n",
      "+---+-----------------+\n",
      "\n"
     ]
    }
   ],
   "source": [
    "df.groupBy(df.cyl).agg(mean(df.hwy)).show()"
   ]
  },
  {
   "cell_type": "code",
   "execution_count": 63,
   "id": "15048e6d",
   "metadata": {},
   "outputs": [
    {
     "name": "stdout",
     "output_type": "stream",
     "text": [
      "+---+-----------------+\n",
      "|cyl|         avg(hwy)|\n",
      "+---+-----------------+\n",
      "|  4|28.80246913580247|\n",
      "|  5|            28.75|\n",
      "|  6|22.82278481012658|\n",
      "|  8|17.62857142857143|\n",
      "+---+-----------------+\n",
      "\n"
     ]
    }
   ],
   "source": [
    "df.groupBy(df.cyl).agg(mean(df.hwy)).sort(df.cyl).show()"
   ]
  },
  {
   "cell_type": "code",
   "execution_count": 64,
   "id": "f249cce9",
   "metadata": {},
   "outputs": [
    {
     "name": "stdout",
     "output_type": "stream",
     "text": [
      "+----+-----------------+\n",
      "| cyl|         avg(hwy)|\n",
      "+----+-----------------+\n",
      "|   8|17.62857142857143|\n",
      "|   6|22.82278481012658|\n",
      "|null|23.44017094017094|\n",
      "|   4|28.80246913580247|\n",
      "|   5|            28.75|\n",
      "+----+-----------------+\n",
      "\n"
     ]
    }
   ],
   "source": [
    "#rollup \n",
    "df.rollup(df.cyl).agg(mean(df.hwy)).show()"
   ]
  },
  {
   "cell_type": "markdown",
   "id": "28eb05d0",
   "metadata": {},
   "source": [
    "# Crosstabs and Pivot Tables"
   ]
  },
  {
   "cell_type": "code",
   "execution_count": 66,
   "id": "62064d60",
   "metadata": {},
   "outputs": [
    {
     "name": "stdout",
     "output_type": "stream",
     "text": [
      "+----------+---+---+---+---+\n",
      "| class_cyl|  4|  5|  6|  8|\n",
      "+----------+---+---+---+---+\n",
      "|   midsize| 16|  0| 23|  2|\n",
      "|       suv|  8|  0| 16| 38|\n",
      "|    pickup|  3|  0| 10| 20|\n",
      "|   minivan|  1|  0| 10|  0|\n",
      "|subcompact| 21|  2|  7|  5|\n",
      "|   2seater|  0|  0|  0|  5|\n",
      "|   compact| 32|  2| 13|  0|\n",
      "+----------+---+---+---+---+\n",
      "\n"
     ]
    }
   ],
   "source": [
    "#crosstab\n",
    "df.crosstab('class', 'cyl').show()"
   ]
  },
  {
   "cell_type": "code",
   "execution_count": 67,
   "id": "4d3e2304",
   "metadata": {},
   "outputs": [
    {
     "name": "stdout",
     "output_type": "stream",
     "text": [
      "+----------+------------------+----+------------------+------------------+\n",
      "|     class|                 4|   5|                 6|                 8|\n",
      "+----------+------------------+----+------------------+------------------+\n",
      "|   midsize|           29.1875|null| 26.26086956521739|              24.0|\n",
      "|       suv|             23.75|null|              18.5|16.789473684210527|\n",
      "|    pickup|20.666666666666668|null|              17.9|              15.8|\n",
      "|   minivan|              24.0|null|              22.2|              null|\n",
      "|subcompact| 30.80952380952381|28.5|24.714285714285715|              21.6|\n",
      "|   2seater|              null|null|              null|              24.8|\n",
      "|   compact|          29.46875|29.0|25.307692307692307|              null|\n",
      "+----------+------------------+----+------------------+------------------+\n",
      "\n"
     ]
    }
   ],
   "source": [
    "#groupby and pivot\n",
    "df.groupby('class').pivot('cyl').mean('hwy').show()"
   ]
  },
  {
   "cell_type": "markdown",
   "id": "c72cceb3",
   "metadata": {},
   "source": [
    "Handling Missing Data\n",
    "\n",
    "* .na.fill: to replace missing values with a specified value\n",
    "    \n",
    "* .na.drop: to drop rows containing missing values"
   ]
  },
  {
   "cell_type": "code",
   "execution_count": 68,
   "id": "85b54403",
   "metadata": {},
   "outputs": [
    {
     "name": "stdout",
     "output_type": "stream",
     "text": [
      "+---+---+\n",
      "|  x|  y|\n",
      "+---+---+\n",
      "|1.0|NaN|\n",
      "|2.0|0.0|\n",
      "|NaN|0.0|\n",
      "|4.0|3.0|\n",
      "|5.0|1.0|\n",
      "|NaN|NaN|\n",
      "+---+---+\n",
      "\n"
     ]
    }
   ],
   "source": [
    "# create df\n",
    "df = spark.createDataFrame(\n",
    "    pd.DataFrame(\n",
    "        {\"x\": [1, 2, np.nan, 4, 5, np.nan], \"y\": [np.nan, 0, 0, 3, 1, np.nan]}\n",
    "    )\n",
    ")\n",
    "df.show()"
   ]
  },
  {
   "cell_type": "code",
   "execution_count": 69,
   "id": "2dff3b5f",
   "metadata": {},
   "outputs": [
    {
     "name": "stdout",
     "output_type": "stream",
     "text": [
      "+---+---+\n",
      "|  x|  y|\n",
      "+---+---+\n",
      "|2.0|0.0|\n",
      "|4.0|3.0|\n",
      "|5.0|1.0|\n",
      "+---+---+\n",
      "\n"
     ]
    }
   ],
   "source": [
    "# drop all nulls\n",
    "df.na.drop().show() "
   ]
  },
  {
   "cell_type": "code",
   "execution_count": 70,
   "id": "8fafe406",
   "metadata": {},
   "outputs": [
    {
     "name": "stdout",
     "output_type": "stream",
     "text": [
      "+---+---+\n",
      "|  x|  y|\n",
      "+---+---+\n",
      "|1.0|NaN|\n",
      "|2.0|0.0|\n",
      "|4.0|3.0|\n",
      "|5.0|1.0|\n",
      "+---+---+\n",
      "\n"
     ]
    }
   ],
   "source": [
    "# drop nulls in the x column only\n",
    "df.na.drop(subset='x').show()"
   ]
  },
  {
   "cell_type": "code",
   "execution_count": 71,
   "id": "1f2f032b",
   "metadata": {},
   "outputs": [
    {
     "name": "stdout",
     "output_type": "stream",
     "text": [
      "+-----+-----+\n",
      "|    x|    y|\n",
      "+-----+-----+\n",
      "|  1.0|100.0|\n",
      "|  2.0|  0.0|\n",
      "|100.0|  0.0|\n",
      "|  4.0|  3.0|\n",
      "|  5.0|  1.0|\n",
      "|100.0|100.0|\n",
      "+-----+-----+\n",
      "\n"
     ]
    }
   ],
   "source": [
    "# fill nulls with 100\n",
    "df.na.fill(100).show()"
   ]
  },
  {
   "cell_type": "code",
   "execution_count": 72,
   "id": "f6d367f9",
   "metadata": {},
   "outputs": [
    {
     "name": "stdout",
     "output_type": "stream",
     "text": [
      "+----+-----+\n",
      "|   x|    y|\n",
      "+----+-----+\n",
      "| 1.0|100.0|\n",
      "| 2.0|  0.0|\n",
      "|-5.0|  0.0|\n",
      "| 4.0|  3.0|\n",
      "| 5.0|  1.0|\n",
      "|-5.0|100.0|\n",
      "+----+-----+\n",
      "\n"
     ]
    }
   ],
   "source": [
    "# fill nulls for  x and y column differently\n",
    "df.na.fill(100, subset='y').na.fill(-5, subset='x').show()"
   ]
  },
  {
   "cell_type": "markdown",
   "id": "f9e848bb",
   "metadata": {},
   "source": [
    "# More Dataframe Manipulation Examples"
   ]
  },
  {
   "cell_type": "code",
   "execution_count": 73,
   "id": "f268bfcc",
   "metadata": {},
   "outputs": [
    {
     "name": "stdout",
     "output_type": "stream",
     "text": [
      "+----------+-------------+--------+--------+----+-------+\n",
      "|      date|precipitation|temp_max|temp_min|wind|weather|\n",
      "+----------+-------------+--------+--------+----+-------+\n",
      "|2012-01-01|          0.0|    12.8|     5.0| 4.7|drizzle|\n",
      "|2012-01-02|         10.9|    10.6|     2.8| 4.5|   rain|\n",
      "|2012-01-03|          0.8|    11.7|     7.2| 2.3|   rain|\n",
      "|2012-01-04|         20.3|    12.2|     5.6| 4.7|   rain|\n",
      "|2012-01-05|          1.3|     8.9|     2.8| 6.1|   rain|\n",
      "|2012-01-06|          2.5|     4.4|     2.2| 2.2|   rain|\n",
      "+----------+-------------+--------+--------+----+-------+\n",
      "only showing top 6 rows\n",
      "\n"
     ]
    }
   ],
   "source": [
    "from vega_datasets import data\n",
    "\n",
    "weather = data.seattle_weather().assign(date=lambda df: df.date.astype(str))\n",
    "df = spark.createDataFrame(weather)\n",
    "df.show(6)"
   ]
  },
  {
   "cell_type": "markdown",
   "id": "2cc233bb",
   "metadata": {},
   "source": [
    "# shape of df"
   ]
  },
  {
   "cell_type": "code",
   "execution_count": 74,
   "id": "1d6d4ed3",
   "metadata": {},
   "outputs": [
    {
     "data": {
      "text/plain": [
       "(1461, 6)"
      ]
     },
     "execution_count": 74,
     "metadata": {},
     "output_type": "execute_result"
    }
   ],
   "source": [
    "df.count(), len(df.columns)"
   ]
  },
  {
   "cell_type": "markdown",
   "id": "7d50afc1",
   "metadata": {},
   "source": [
    "# start and end date"
   ]
  },
  {
   "cell_type": "code",
   "execution_count": 75,
   "id": "dade4767",
   "metadata": {},
   "outputs": [
    {
     "name": "stdout",
     "output_type": "stream",
     "text": [
      "+----------+----------+\n",
      "| min(date)| max(date)|\n",
      "+----------+----------+\n",
      "|2012-01-01|2015-12-31|\n",
      "+----------+----------+\n",
      "\n"
     ]
    }
   ],
   "source": [
    "# find min and max of the dates\n",
    "df.select(\n",
    "    min(df.date), max(df.date)\n",
    ").show()"
   ]
  },
  {
   "cell_type": "markdown",
   "id": "49d99cb6",
   "metadata": {},
   "source": [
    "# Find the total rainfall per month"
   ]
  },
  {
   "cell_type": "code",
   "execution_count": 76,
   "id": "e4f8b26c",
   "metadata": {},
   "outputs": [],
   "source": [
    "from pyspark.sql.functions import month, year, quarter, round"
   ]
  },
  {
   "cell_type": "code",
   "execution_count": 77,
   "id": "72e88696",
   "metadata": {},
   "outputs": [
    {
     "name": "stdout",
     "output_type": "stream",
     "text": [
      "+--------+----------+\n",
      "|themonth|total_rain|\n",
      "+--------+----------+\n",
      "|       1|     466.0|\n",
      "|       2|     422.0|\n",
      "|       3|     606.0|\n",
      "|       4|     375.0|\n",
      "|       5|     208.0|\n",
      "|       6|     133.0|\n",
      "|       7|      48.0|\n",
      "|       8|     164.0|\n",
      "|       9|     235.0|\n",
      "|      10|     503.0|\n",
      "|      11|     643.0|\n",
      "|      12|     623.0|\n",
      "+--------+----------+\n",
      "\n"
     ]
    }
   ],
   "source": [
    "# groupby month, sum and round precipitation and rename to total_rain\n",
    "(\n",
    "    df.withColumn('themonth', month('date'))\n",
    "    .groupby('themonth')\n",
    "    .agg(round(sum('precipitation')).alias('total_rain'))\n",
    "    .sort('themonth')\n",
    ").show()"
   ]
  },
  {
   "cell_type": "markdown",
   "id": "b5d1d316",
   "metadata": {},
   "source": [
    "# Joins"
   ]
  },
  {
   "cell_type": "code",
   "execution_count": 79,
   "id": "b44ebdc4",
   "metadata": {},
   "outputs": [
    {
     "name": "stdout",
     "output_type": "stream",
     "text": [
      "--- users ---\n",
      "+---+-----+-------+\n",
      "| id| name|role_id|\n",
      "+---+-----+-------+\n",
      "|  1|  bob|    1.0|\n",
      "|  2|  joe|    2.0|\n",
      "|  3|sally|    3.0|\n",
      "|  4| adam|    3.0|\n",
      "|  5| jane|    NaN|\n",
      "|  6| mike|    NaN|\n",
      "+---+-----+-------+\n",
      "\n",
      "--- roles ---\n",
      "+---+---------+\n",
      "| id|     name|\n",
      "+---+---------+\n",
      "|  1|    admin|\n",
      "|  2|   author|\n",
      "|  3| reviewer|\n",
      "|  4|commenter|\n",
      "+---+---------+\n",
      "\n"
     ]
    }
   ],
   "source": [
    "# create dfs\n",
    "users = spark.createDataFrame(\n",
    "    pd.DataFrame(\n",
    "        {\n",
    "            \"id\": [1, 2, 3, 4, 5, 6],\n",
    "            \"name\": [\"bob\", \"joe\", \"sally\", \"adam\", \"jane\", \"mike\"],\n",
    "            \"role_id\": [1, 2, 3, 3, np.nan, np.nan],\n",
    "        }\n",
    "    )\n",
    ")\n",
    "roles = spark.createDataFrame(\n",
    "    pd.DataFrame(\n",
    "        {\n",
    "            \"id\": [1, 2, 3, 4],\n",
    "            \"name\": [\"admin\", \"author\", \"reviewer\", \"commenter\"],\n",
    "        }\n",
    "    )\n",
    ")\n",
    "print(\"--- users ---\")\n",
    "users.show()\n",
    "print(\"--- roles ---\")\n",
    "roles.show()"
   ]
  },
  {
   "cell_type": "code",
   "execution_count": 80,
   "id": "9051dcfd",
   "metadata": {},
   "outputs": [
    {
     "name": "stdout",
     "output_type": "stream",
     "text": [
      "+---+-----+-------+---+--------+\n",
      "| id| name|role_id| id|    name|\n",
      "+---+-----+-------+---+--------+\n",
      "|  1|  bob|    1.0|  1|   admin|\n",
      "|  2|  joe|    2.0|  2|  author|\n",
      "|  4| adam|    3.0|  3|reviewer|\n",
      "|  3|sally|    3.0|  3|reviewer|\n",
      "+---+-----+-------+---+--------+\n",
      "\n"
     ]
    }
   ],
   "source": [
    "# join tables on role_id\n",
    "users.join(roles, on= users.role_id == roles.id).show()"
   ]
  },
  {
   "cell_type": "code",
   "execution_count": 84,
   "id": "6f234184",
   "metadata": {},
   "outputs": [
    {
     "name": "stdout",
     "output_type": "stream",
     "text": [
      "+---+-----+-------+----+--------+\n",
      "| id| name|role_id|  id|    name|\n",
      "+---+-----+-------+----+--------+\n",
      "|  1|  bob|    1.0|   1|   admin|\n",
      "|  2|  joe|    2.0|   2|  author|\n",
      "|  3|sally|    3.0|   3|reviewer|\n",
      "|  4| adam|    3.0|   3|reviewer|\n",
      "|  5| jane|    NaN|null|    null|\n",
      "|  6| mike|    NaN|null|    null|\n",
      "+---+-----+-------+----+--------+\n",
      "\n"
     ]
    }
   ],
   "source": [
    "# left join (users) on role_id -- keeps value in users table \n",
    "users.join(roles, on= users.role_id == roles.id, how='left').show()"
   ]
  },
  {
   "cell_type": "code",
   "execution_count": 85,
   "id": "3370ff49",
   "metadata": {},
   "outputs": [
    {
     "name": "stdout",
     "output_type": "stream",
     "text": [
      "+----+-----+-------+---+---------+\n",
      "|  id| name|role_id| id|     name|\n",
      "+----+-----+-------+---+---------+\n",
      "|   1|  bob|    1.0|  1|    admin|\n",
      "|   2|  joe|    2.0|  2|   author|\n",
      "|   4| adam|    3.0|  3| reviewer|\n",
      "|   3|sally|    3.0|  3| reviewer|\n",
      "|null| null|   null|  4|commenter|\n",
      "+----+-----+-------+---+---------+\n",
      "\n"
     ]
    }
   ],
   "source": [
    "# right join (roles) on role_id -- keeps value in roles table \n",
    "users.join(roles, on= users.role_id == roles.id, how='right').show()"
   ]
  },
  {
   "cell_type": "code",
   "execution_count": 86,
   "id": "94423550",
   "metadata": {},
   "outputs": [
    {
     "data": {
      "text/html": [
       "<div>\n",
       "<style scoped>\n",
       "    .dataframe tbody tr th:only-of-type {\n",
       "        vertical-align: middle;\n",
       "    }\n",
       "\n",
       "    .dataframe tbody tr th {\n",
       "        vertical-align: top;\n",
       "    }\n",
       "\n",
       "    .dataframe thead th {\n",
       "        text-align: right;\n",
       "    }\n",
       "</style>\n",
       "<table border=\"1\" class=\"dataframe\">\n",
       "  <thead>\n",
       "    <tr style=\"text-align: right;\">\n",
       "      <th></th>\n",
       "      <th>id</th>\n",
       "      <th>name</th>\n",
       "      <th>role_id</th>\n",
       "    </tr>\n",
       "  </thead>\n",
       "  <tbody>\n",
       "    <tr>\n",
       "      <th>0</th>\n",
       "      <td>1</td>\n",
       "      <td>bob</td>\n",
       "      <td>1.0</td>\n",
       "    </tr>\n",
       "    <tr>\n",
       "      <th>1</th>\n",
       "      <td>2</td>\n",
       "      <td>joe</td>\n",
       "      <td>2.0</td>\n",
       "    </tr>\n",
       "    <tr>\n",
       "      <th>2</th>\n",
       "      <td>3</td>\n",
       "      <td>sally</td>\n",
       "      <td>3.0</td>\n",
       "    </tr>\n",
       "    <tr>\n",
       "      <th>3</th>\n",
       "      <td>4</td>\n",
       "      <td>adam</td>\n",
       "      <td>3.0</td>\n",
       "    </tr>\n",
       "    <tr>\n",
       "      <th>4</th>\n",
       "      <td>5</td>\n",
       "      <td>jane</td>\n",
       "      <td>NaN</td>\n",
       "    </tr>\n",
       "    <tr>\n",
       "      <th>5</th>\n",
       "      <td>6</td>\n",
       "      <td>mike</td>\n",
       "      <td>NaN</td>\n",
       "    </tr>\n",
       "  </tbody>\n",
       "</table>\n",
       "</div>"
      ],
      "text/plain": [
       "   id   name  role_id\n",
       "0   1    bob      1.0\n",
       "1   2    joe      2.0\n",
       "2   3  sally      3.0\n",
       "3   4   adam      3.0\n",
       "4   5   jane      NaN\n",
       "5   6   mike      NaN"
      ]
     },
     "execution_count": 86,
     "metadata": {},
     "output_type": "execute_result"
    }
   ],
   "source": [
    "users.toPandas()"
   ]
  },
  {
   "cell_type": "code",
   "execution_count": null,
   "id": "33b69b66",
   "metadata": {},
   "outputs": [],
   "source": []
  }
 ],
 "metadata": {
  "kernelspec": {
   "display_name": "Python 3 (ipykernel)",
   "language": "python",
   "name": "python3"
  },
  "language_info": {
   "codemirror_mode": {
    "name": "ipython",
    "version": 3
   },
   "file_extension": ".py",
   "mimetype": "text/x-python",
   "name": "python",
   "nbconvert_exporter": "python",
   "pygments_lexer": "ipython3",
   "version": "3.9.13"
  }
 },
 "nbformat": 4,
 "nbformat_minor": 5
}
